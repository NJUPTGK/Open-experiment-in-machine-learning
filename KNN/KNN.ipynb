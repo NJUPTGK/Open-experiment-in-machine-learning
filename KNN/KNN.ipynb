{
 "cells": [
  {
   "cell_type": "code",
   "execution_count": null,
   "metadata": {
    "collapsed": true
   },
   "outputs": [],
   "source": [
    "from numpy import *\n",
    "from os import listdir\n",
    "import operator\n",
    "# 输入数据为32*32的二进制图像矩阵\n",
    "def img2vector(filename):\n",
    "    returnVect = zeros((1, 1024))  # 返回一个1行1024列的矩阵，用0填充\n",
    "    fr = open(filename)\n",
    "    for i in range(32):\n",
    "        lineStr = fr.readline()\n",
    "        for j in range(32):\n",
    "            returnVect[0, 32*i+j] = int(lineStr[j])  # 矩阵的转置，32*32转成1*1024\n",
    "    return returnVect\n",
    "\n",
    "hwLabels = []\n",
    "trainingFileList = listdir(path='trainingDigits')  # 获取目录内容\n",
    "m = len(trainingFileList)\n",
    "trainingMat = zeros((m, 1024))  # m行1024列的矩阵\n",
    "for i in range(m):\n",
    "    # 一下三行，从文件名解析分类数字\n",
    "    fileNameStr = trainingFileList[i]\n",
    "    fileStr = fileNameStr.split('.')[0]\n",
    "    classNumStr = int(fileStr.split('_')[0])\n",
    "\n",
    "    hwLabels.append(classNumStr)\n",
    "    trainingMat[i, :] = img2vector('trainingDigits/%s' % fileNameStr)  # 所有的数据集都合在一个矩阵里\n",
    "testFileList = listdir(path='testDigits')\n",
    "\n",
    "errorCount = 0.0  # 错误个数计数器\n",
    "mTest = len(testFileList)\n",
    "\n",
    "# 从测试数据中提取数据\n",
    "for i in range(mTest):\n",
    "    fileNameStr = testFileList[i]\n",
    "    fileStr = fileNameStr.split('.')[0]\n",
    "\n",
    "    classNumStr = int(fileStr.split('_')[0])\n",
    "    vectorUnderTest = img2vector('testDigits/%s' % fileNameStr)\n",
    "    dataSetSize = trainingMat.shape[0]     # 手写体样本集容量，inX就是1*1024的矩阵\n",
    "    # (以下三行)距离计算,欧式距离\n",
    "    diffMat = tile(vectorUnderTest, (dataSetSize,1)) - trainingMat  # 沿Y轴复制dataSetSize倍，X轴复制一倍，减所有数据集的矩阵，就是欧式距离\n",
    "    sqDiffMat = diffMat**2  # 平方\n",
    "    sqDistances = sqDiffMat.sum(axis=1)  # 每一行求和，然后相加\n",
    "    distances = sqDistances**0.5   # 欧氏距离开平方\n",
    "    sortedDistIndicies = distances.argsort()  # x.argsort()是将X中的元素从小到大排序,提取其对应的index(索引)并输出\n",
    "    classCount = {}\n",
    "    # (以下两行)选择距离最小的k个点\n",
    "    for i in range(3):\n",
    "        voteIlabel = hwLabels[sortedDistIndicies[i]]\n",
    "        classCount[voteIlabel] = classCount.get(voteIlabel,0) + 1\n",
    "        # 这里是选择距离最小的k个点， sortedDistIndicies已经排好序，只需迭代的取前k个样本点的labels(即标签)，\n",
    "        # 并计算该标签出现的次数，这里还用到了dict.get(key, default=None)函数，key就是dict中的键voteIlabel，\n",
    "        # 如果不存在则返回一个0并存入dict，如果存在则读取当前值并+1\n",
    "    \n",
    "    sortedClassCount = sorted(classCount.items(),key = operator.itemgetter(1), reverse = True)\n"
   ]
  }
 ],
 "metadata": {
  "kernelspec": {
   "display_name": "Python 2",
   "language": "python",
   "name": "python2"
  },
  "language_info": {
   "codemirror_mode": {
    "name": "ipython",
    "version": 2
   },
   "file_extension": ".py",
   "mimetype": "text/x-python",
   "name": "python",
   "nbconvert_exporter": "python",
   "pygments_lexer": "ipython2",
   "version": "2.7.6"
  }
 },
 "nbformat": 4,
 "nbformat_minor": 0
}
